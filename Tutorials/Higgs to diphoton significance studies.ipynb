{
 "cells": [
  {
   "cell_type": "markdown",
   "metadata": {},
   "source": [
    "# $H\\to\\gamma\\gamma$ significance"
   ]
  },
  {
   "cell_type": "markdown",
   "metadata": {},
   "source": [
    "## 1. $H\\to\\gamma\\gamma$ invariant mass spectrum \"toy\" simulation\n",
    "\n",
    "We begin by defining a function that generetase pseudo-data, returning an histogram mimicking the observed diphoton invariant mass spectrum for a given luminosity. The function assumes an exponential functional form for the continuous background cross section:\n",
    "\n",
    "$$\\frac{d\\sigma_B}{d m_{\\gamma\\gamma}} = C e^{-b m_{\\gamma\\gamma}}$$\n",
    "\n",
    "with $C \\simeq 1145\\,\\text{fb/GeV}$ and $b \\simeq 0.023 \\,\\text{GeV}^{-1}$. These parameter are hardcoded in the function, but you can experiment to change them. \n",
    "\n",
    "The Higgs effective cross section is assumed to be:\n",
    "\n",
    "$$\\sigma_S(m_H = 125 \\text{GeV}) \\cdot BR \\cdot \\varepsilon \\simeq 10 \\text{fb}$$\n",
    "\n",
    "The $H\\to\\gamma\\gamma$ peak is described by a Gaussian centered at $m_H$, with a width $\\sigma_{\\gamma\\gamma}$ dominated by the detector diphoton invariant mass resolution. The shape parameter for the Higgs peak are given as parameters to the function. \n",
    "\n",
    "The number of signal and background events for a given integrated luminosity are computed as results of Poisson discribution starting from the expected average number of events, obtained from the respective cross-sections:\n",
    "\n",
    "$$\\langle N_{S,B} \\rangle = \\mathcal{L} \\cdot \\sigma_{S,B}$$\n",
    "\n",
    "$$N_{S,B} = \\text{Poisson}(\\langle N_{S,B} \\rangle)$$"
   ]
  },
  {
   "cell_type": "code",
   "execution_count": 18,
   "metadata": {},
   "outputs": [],
   "source": [
    "import ROOT\n",
    "import math"
   ]
  },
  {
   "cell_type": "code",
   "execution_count": 20,
   "metadata": {},
   "outputs": [],
   "source": [
    "def DataHistogram(m_higgs,sigma_m,lumi,\n",
    "                  mMin = 100.,\n",
    "                  mMax = 150.,\n",
    "                  nCha = 50):\n",
    "    \"\"\"\n",
    "    Function to generate a random (pseudo) diphoton invariant-mass spectrum\n",
    "    Returns a TH1F\n",
    "    \"\"\"\n",
    "    h_mgg = ROOT.TH1F(\"h_mgg\",\"\",nCha,mMin,mMax)\n",
    "\n",
    "    # background cross section\n",
    "    # dsigma/dm_gammagamma = 1145. fb/GeV exp(-0.023 GeV-1 * m_gammagamma)\n",
    "    background = ROOT.TF1(\"background\",\"1145.*exp(-0.023*x)\",mMin,mMax)\n",
    "\n",
    "    # total background cross section\n",
    "    sigma_bck = background.Integral(mMin,mMax)\n",
    "\n",
    "    # Higgs cross section x BR x detector efficiency ~ 10 fb \n",
    "    # Gaussian around Higgs mass, with width dependent on gamma-gamma invariant mass resolution\n",
    "    higgs = ROOT.TF1(\"higgs\",\"10.*exp(-0.5*(x-[0])^2/[1]^2)/(sqrt(6.28)*[1])\",mMin,mMax)\n",
    "    higgs.SetParameter(0,m_higgs) # Higgs mass \n",
    "    higgs.SetParameter(1,sigma_m) # invariant mass width\n",
    "\n",
    "    # total higgs cross section\n",
    "    sigma_higgs=higgs.Integral(mMin,mMax);\n",
    "\n",
    "    # Random number generator\n",
    "    generator = ROOT.TRandom(0)\n",
    "\n",
    "    # Higgs spectrum generation\n",
    "    # Number of events is given by Poisson distribution around expected value\n",
    "    # Invariant mass spectrum is obtained from differential cross section\n",
    "    nHiggs = generator.Poisson(lumi*sigma_higgs)\n",
    "    for i in range(nHiggs):\n",
    "        h_mgg.Fill(higgs.GetRandom())\n",
    "\n",
    "    # Background spectrum generation\n",
    "    # Number of events is given by Poisson distribution around expected value\n",
    "    # Invariant mass spectrum is obtained from differential cross section\n",
    "    nBck = generator.Poisson(lumi*sigma_bck)\n",
    "    for i in range(nBck):\n",
    "        h_mgg.Fill(background.GetRandom())\n",
    "\n",
    "    h_mgg.GetXaxis().SetTitle(\"m_{#gamma#gamma} [GeV]\")\n",
    "    h_mgg.GetYaxis().SetTitle(\"Events / 1 GeV\")\n",
    "    return h_mgg"
   ]
  },
  {
   "cell_type": "markdown",
   "metadata": {},
   "source": [
    "### Let's generate some pseudo-data and have a look at it\n",
    "\n",
    "Try to change the parameters for the luminosity and see how the spectrum shape change with more or less data...\n",
    "\n",
    "* **Can you see the Higgs peak by eye?**\n",
    "* **If you generate the spectrum again with the same parameters, is it the peak visible any time?**\n",
    "* **Try to vary the luminosity `L` parameter and see how the spectrum changes**"
   ]
  },
  {
   "cell_type": "code",
   "execution_count": 24,
   "metadata": {},
   "outputs": [
    {
     "name": "stderr",
     "output_type": "stream",
     "text": [
      "Warning in <TROOT::Append>: Replacing existing TH1: h_mgg (Potential memory leak).\n",
      "Warning in <TCanvas::Constructor>: Deleting canvas with same name: c\n"
     ]
    },
    {
     "data": {
      "image/png": "[encoded data removed]",
      "text/plain": [
       "<IPython.core.display.Image object>"
      ]
     },
     "metadata": {},
     "output_type": "display_data"
    }
   ],
   "source": [
    "L   = 10.  # integrated luminosity fb-1\n",
    "m_H = 125. # GeV - mass central value\n",
    "s_m = 1.4  # GeV - mass resolution\n",
    "\n",
    "mgg = DataHistogram(m_H,s_m,L)\n",
    "\n",
    "c = ROOT.TCanvas(\"c\",\"\",50,50,800,600);\n",
    "c.cd(1).SetLeftMargin(0.15)\n",
    "\n",
    "mgg.SetStats(0)\n",
    "mgg.SetMarkerStyle(20)\n",
    "mgg.SetLineColor(1)\n",
    "mgg.Draw(\"E\")\n",
    "\n",
    "label = ROOT.TLatex()\n",
    "label.SetTextSize(0.05)\n",
    "label.SetTextAlign(12)\n",
    "label.DrawLatexNDC(0.6,0.8,\"#int L dt = \"+str(int(L))+\" fb^{-1}\")\n",
    "                   \n",
    "c.Draw()"
   ]
  },
  {
   "cell_type": "markdown",
   "metadata": {},
   "source": [
    "## 2. Diphoton invariant mass fit\n",
    "\n",
    "We want to fit out generated pseudo-data with a function with two component to extract the number of signal events from the spectrum. This emulates (in a simplified way!) what the LHC experiments do to look for a $H\\to\\gamma\\gamma$ signal. We will use a function defined as the sum of an exponentian and a Gaussian components:\n",
    "\n",
    "$$ \\frac{dN}{d m_{\\gamma\\gamma}} = p_0 e^{-p1 m{_\\gamma\\gamma}} + p_2 \\frac{1}{\\sqrt{2 \\pi p_4}} \n",
    "e^{ -\\frac{(m_{\\gamma\\gamma} - p_3)^2}{p_4^2}}$$\n",
    "\n",
    "The parameter $p_0$ measures the observed total number of background events $N_B^{\\text{obs}}$, the parameter $p_0$ the observed number of signal events $N_S^{\\text{obs}}$."
   ]
  },
  {
   "cell_type": "code",
   "execution_count": 25,
   "metadata": {},
   "outputs": [],
   "source": [
    "def massSB(x,p):\n",
    "    \"\"\"\n",
    "    Function to perfom a simple S+B fit to the gamma-gamma invariant mass spectrum\n",
    "    Signal: gaussian\n",
    "    background: exponential\n",
    "    x[0] = Invariant mass\n",
    "    p[0],p[1] = Background  p[0]*exp(-p[1]*m_gammagamma)\n",
    "    p[2] = Gaussian normalisation\n",
    "    p[3] = Higgs mass\n",
    "    p[4] = Mass resolution\n",
    "    \"\"\"\n",
    "    b = p[0]*math.exp(-p[1]*x[0])\n",
    "    s = p[2]*(1./(math.sqrt(2.*math.pi*p[4]))*math.exp(-0.5*(x[0]-p[3])*(x[0]-p[3])/(p[4]*p[4])))\n",
    "    return b+s\n",
    "\n",
    "massFit = ROOT.TF1('massFit',massSB,100.,200.,5)"
   ]
  },
  {
   "cell_type": "code",
   "execution_count": 26,
   "metadata": {},
   "outputs": [
    {
     "name": "stdout",
     "output_type": "stream",
     "text": [
      " FCN=48.3047 FROM MIGRAD    STATUS=CONVERGED     290 CALLS         291 TOTAL\n",
      "                     EDM=4.36698e-08    STRATEGY= 1      ERROR MATRIX ACCURATE \n",
      "  EXT PARAMETER                                   STEP         FIRST   \n",
      "  NO.   NAME      VALUE            ERROR          SIZE      DERIVATIVE \n",
      "   1  p0           1.07333e+04   5.08334e+02   7.39134e-07   2.90824e+00\n",
      "   2  p1           2.24737e-02   3.91976e-04   1.03598e-06  -4.92668e-01\n",
      "   3  p2           1.12025e+02   5.15300e+01   5.00296e-05   7.69094e-03\n",
      "   4  p3           1.25047e+02   1.07922e+00   3.69827e-04   1.27418e-03\n",
      "   5  p4           1.40000e+00     fixed    \n"
     ]
    },
    {
     "name": "stderr",
     "output_type": "stream",
     "text": [
      "Warning in <TCanvas::Constructor>: Deleting canvas with same name: cfit\n"
     ]
    },
    {
     "data": {
      "image/png": "[encoded data removed]",
      "text/plain": [
       "<IPython.core.display.Image object>"
      ]
     },
     "metadata": {},
     "output_type": "display_data"
    }
   ],
   "source": [
    "# Now let's fit the histogram. \n",
    "# Lets' start by setting the initial values for the fit parameters \n",
    "\n",
    "massFit.SetParameter(0,1.E+5) # Background\n",
    "massFit.SetParameter(1,0.023); # Background\n",
    "massFit.SetParameter(2,500.);  # Gaussian normalization\n",
    "massFit.SetParameter(3,m_H);   # Higgs mass\n",
    "massFit.SetParameter(4,s_m);   # Diphoton mass resolution\n",
    " \n",
    "#     Especially at low statistics, sometimes is can happen than mass\n",
    "#     measured value diverges or that Higgs signal fraction converge\n",
    "#     toward un-physical limits. We might then need to impose a range\n",
    "#     for these parameters.\n",
    "\n",
    "massFit.SetParLimits(0,0.,L*10000000.);\n",
    "massFit.SetParLimits(1,0.,1.);\n",
    "massFit.SetParLimits(2,0.,1.E+5)\n",
    "massFit.SetParLimits(3,m_H-10.,m_H+10.)\n",
    "massFit.SetParLimits(4,s_m*0.5,s_m*2.)\n",
    "\n",
    "# Mass resolution should come from independent measurement! Why? \n",
    "massFit.FixParameter(4,s_m)\n",
    "\n",
    "massFit.SetLineStyle(1)\n",
    "massFit.SetLineColor(2)\n",
    "mgg.Fit(massFit)\n",
    "\n",
    "# Draw with full fit\n",
    "cfit = ROOT.TCanvas(\"cfit\",\"\",10,10,800,600);\n",
    "\n",
    "mgg.SetStats(0)\n",
    "mgg.SetMarkerStyle(20)\n",
    "mgg.SetLineColor(1)\n",
    "\n",
    "mgg.Draw(\"PE\") # Histogram\n",
    "# massFit.Draw(\"same\") # Fit result (S+B)\n",
    "massFit.SetParameter(2,0.); massFit.SetLineStyle(2); massFit.Draw(\"same\") # Fit result, B component only\n",
    "\n",
    "label.SetTextSize(0.05)\n",
    "label.SetTextAlign(12)\n",
    "label.DrawLatexNDC(0.6,0.8,\"#int L dt = \"+str(int(L))+\" fb^{-1}\")\n",
    "\n",
    "cfit.Draw()"
   ]
  },
  {
   "cell_type": "markdown",
   "metadata": {},
   "source": [
    "## 3. Role of statistical fluctuations\n",
    "\n",
    "Let's now run several \"toy\" experiments to evaluate the impact of statistical fluctuations for a given integrated luminosity"
   ]
  },
  {
   "cell_type": "code",
   "execution_count": 28,
   "metadata": {},
   "outputs": [
    {
     "name": "stdout",
     "output_type": "stream",
     "text": [
      "*** Toy # 10 / 200\n",
      "*** Toy # 20 / 200\n",
      "*** Toy # 30 / 200\n",
      "*** Toy # 40 / 200\n",
      "*** Toy # 50 / 200\n",
      "*** Toy # 60 / 200\n",
      "*** Toy # 70 / 200\n",
      "*** Toy # 80 / 200\n",
      "*** Toy # 90 / 200\n",
      "*** Toy # 100 / 200\n",
      "*** Toy # 110 / 200\n",
      "*** Toy # 120 / 200\n",
      "*** Toy # 130 / 200\n",
      "*** Toy # 140 / 200\n",
      "*** Toy # 150 / 200\n",
      "*** Toy # 160 / 200\n",
      "*** Toy # 170 / 200\n",
      "*** Toy # 180 / 200\n",
      "*** Toy # 190 / 200\n"
     ]
    },
    {
     "name": "stderr",
     "output_type": "stream",
     "text": [
      "Warning in <TROOT::Append>: Replacing existing TH1: h_mgg (Potential memory leak).\n",
      "Warning in <TROOT::Append>: Replacing existing TH1: h_mgg (Potential memory leak).\n",
      "Warning in <TROOT::Append>: Replacing existing TH1: h_mgg (Potential memory leak).\n",
      "Warning in <TROOT::Append>: Replacing existing TH1: h_mgg (Potential memory leak).\n",
      "Warning in <TROOT::Append>: Replacing existing TH1: h_mgg (Potential memory leak).\n",
      "Warning in <TROOT::Append>: Replacing existing TH1: h_mgg (Potential memory leak).\n",
      "Warning in <TROOT::Append>: Replacing existing TH1: h_mgg (Potential memory leak).\n",
      "Warning in <TROOT::Append>: Replacing existing TH1: h_mgg (Potential memory leak).\n",
      "Warning in <TROOT::Append>: Replacing existing TH1: h_mgg (Potential memory leak).\n",
      "Warning in <TROOT::Append>: Replacing existing TH1: h_mgg (Potential memory leak).\n",
      "Warning in <TROOT::Append>: Replacing existing TH1: h_mgg (Potential memory leak).\n",
      "Warning in <TROOT::Append>: Replacing existing TH1: h_mgg (Potential memory leak).\n",
      "Warning in <TROOT::Append>: Replacing existing TH1: h_mgg (Potential memory leak).\n",
      "Warning in <TROOT::Append>: Replacing existing TH1: h_mgg (Potential memory leak).\n",
      "Warning in <TROOT::Append>: Replacing existing TH1: h_mgg (Potential memory leak).\n",
      "Warning in <TROOT::Append>: Replacing existing TH1: h_mgg (Potential memory leak).\n",
      "Warning in <TROOT::Append>: Replacing existing TH1: h_mgg (Potential memory leak).\n",
      "Warning in <TROOT::Append>: Replacing existing TH1: h_mgg (Potential memory leak).\n",
      "Warning in <TROOT::Append>: Replacing existing TH1: h_mgg (Potential memory leak).\n",
      "Warning in <TROOT::Append>: Replacing existing TH1: h_mgg (Potential memory leak).\n",
      "Warning in <TROOT::Append>: Replacing existing TH1: h_mgg (Potential memory leak).\n",
      "Warning in <TROOT::Append>: Replacing existing TH1: h_mgg (Potential memory leak).\n",
      "Warning in <TROOT::Append>: Replacing existing TH1: h_mgg (Potential memory leak).\n",
      "Warning in <TROOT::Append>: Replacing existing TH1: h_mgg (Potential memory leak).\n",
      "Warning in <TROOT::Append>: Replacing existing TH1: h_mgg (Potential memory leak).\n",
      "Warning in <TROOT::Append>: Replacing existing TH1: h_mgg (Potential memory leak).\n",
      "Warning in <TROOT::Append>: Replacing existing TH1: h_mgg (Potential memory leak).\n",
      "Warning in <TROOT::Append>: Replacing existing TH1: h_mgg (Potential memory leak).\n",
      "Warning in <TROOT::Append>: Replacing existing TH1: h_mgg (Potential memory leak).\n",
      "Warning in <TROOT::Append>: Replacing existing TH1: h_mgg (Potential memory leak).\n",
      "Warning in <TROOT::Append>: Replacing existing TH1: h_mgg (Potential memory leak).\n",
      "Warning in <TROOT::Append>: Replacing existing TH1: h_mgg (Potential memory leak).\n",
      "Warning in <TROOT::Append>: Replacing existing TH1: h_mgg (Potential memory leak).\n",
      "Warning in <TROOT::Append>: Replacing existing TH1: h_mgg (Potential memory leak).\n",
      "Warning in <TROOT::Append>: Replacing existing TH1: h_mgg (Potential memory leak).\n",
      "Warning in <TROOT::Append>: Replacing existing TH1: h_mgg (Potential memory leak).\n",
      "Warning in <TROOT::Append>: Replacing existing TH1: h_mgg (Potential memory leak).\n",
      "Warning in <TROOT::Append>: Replacing existing TH1: h_mgg (Potential memory leak).\n",
      "Warning in <TROOT::Append>: Replacing existing TH1: h_mgg (Potential memory leak).\n",
      "Warning in <TROOT::Append>: Replacing existing TH1: h_mgg (Potential memory leak).\n",
      "Warning in <TROOT::Append>: Replacing existing TH1: h_mgg (Potential memory leak).\n",
      "Warning in <TROOT::Append>: Replacing existing TH1: h_mgg (Potential memory leak).\n",
      "Warning in <TROOT::Append>: Replacing existing TH1: h_mgg (Potential memory leak).\n",
      "Warning in <TROOT::Append>: Replacing existing TH1: h_mgg (Potential memory leak).\n",
      "Warning in <TROOT::Append>: Replacing existing TH1: h_mgg (Potential memory leak).\n",
      "Warning in <TROOT::Append>: Replacing existing TH1: h_mgg (Potential memory leak).\n",
      "Warning in <TROOT::Append>: Replacing existing TH1: h_mgg (Potential memory leak).\n",
      "Warning in <TROOT::Append>: Replacing existing TH1: h_mgg (Potential memory leak).\n",
      "Warning in <TROOT::Append>: Replacing existing TH1: h_mgg (Potential memory leak).\n",
      "Warning in <TROOT::Append>: Replacing existing TH1: h_mgg (Potential memory leak).\n",
      "Warning in <TROOT::Append>: Replacing existing TH1: h_mgg (Potential memory leak).\n",
      "Warning in <TROOT::Append>: Replacing existing TH1: h_mgg (Potential memory leak).\n",
      "Warning in <TROOT::Append>: Replacing existing TH1: h_mgg (Potential memory leak).\n",
      "Warning in <TROOT::Append>: Replacing existing TH1: h_mgg (Potential memory leak).\n",
      "Warning in <TROOT::Append>: Replacing existing TH1: h_mgg (Potential memory leak).\n",
      "Warning in <TROOT::Append>: Replacing existing TH1: h_mgg (Potential memory leak).\n",
      "Warning in <TROOT::Append>: Replacing existing TH1: h_mgg (Potential memory leak).\n",
      "Warning in <TROOT::Append>: Replacing existing TH1: h_mgg (Potential memory leak).\n",
      "Warning in <TROOT::Append>: Replacing existing TH1: h_mgg (Potential memory leak).\n",
      "Warning in <TROOT::Append>: Replacing existing TH1: h_mgg (Potential memory leak).\n",
      "Warning in <TROOT::Append>: Replacing existing TH1: h_mgg (Potential memory leak).\n",
      "Warning in <TROOT::Append>: Replacing existing TH1: h_mgg (Potential memory leak).\n",
      "Warning in <TROOT::Append>: Replacing existing TH1: h_mgg (Potential memory leak).\n",
      "Warning in <TROOT::Append>: Replacing existing TH1: h_mgg (Potential memory leak).\n",
      "Warning in <TROOT::Append>: Replacing existing TH1: h_mgg (Potential memory leak).\n",
      "Warning in <TROOT::Append>: Replacing existing TH1: h_mgg (Potential memory leak).\n",
      "Warning in <TROOT::Append>: Replacing existing TH1: h_mgg (Potential memory leak).\n",
      "Warning in <TROOT::Append>: Replacing existing TH1: h_mgg (Potential memory leak).\n",
      "Warning in <TROOT::Append>: Replacing existing TH1: h_mgg (Potential memory leak).\n",
      "Warning in <TROOT::Append>: Replacing existing TH1: h_mgg (Potential memory leak).\n",
      "Warning in <TROOT::Append>: Replacing existing TH1: h_mgg (Potential memory leak).\n",
      "Warning in <TROOT::Append>: Replacing existing TH1: h_mgg (Potential memory leak).\n",
      "Warning in <TROOT::Append>: Replacing existing TH1: h_mgg (Potential memory leak).\n",
      "Warning in <TROOT::Append>: Replacing existing TH1: h_mgg (Potential memory leak).\n",
      "Warning in <TROOT::Append>: Replacing existing TH1: h_mgg (Potential memory leak).\n",
      "Warning in <TROOT::Append>: Replacing existing TH1: h_mgg (Potential memory leak).\n",
      "Warning in <TROOT::Append>: Replacing existing TH1: h_mgg (Potential memory leak).\n",
      "Warning in <TROOT::Append>: Replacing existing TH1: h_mgg (Potential memory leak).\n",
      "Warning in <TROOT::Append>: Replacing existing TH1: h_mgg (Potential memory leak).\n",
      "Warning in <TROOT::Append>: Replacing existing TH1: h_mgg (Potential memory leak).\n",
      "Warning in <TROOT::Append>: Replacing existing TH1: h_mgg (Potential memory leak).\n",
      "Warning in <TROOT::Append>: Replacing existing TH1: h_mgg (Potential memory leak).\n",
      "Warning in <TROOT::Append>: Replacing existing TH1: h_mgg (Potential memory leak).\n",
      "Warning in <TROOT::Append>: Replacing existing TH1: h_mgg (Potential memory leak).\n",
      "Warning in <TROOT::Append>: Replacing existing TH1: h_mgg (Potential memory leak).\n",
      "Warning in <TROOT::Append>: Replacing existing TH1: h_mgg (Potential memory leak).\n",
      "Warning in <TROOT::Append>: Replacing existing TH1: h_mgg (Potential memory leak).\n",
      "Warning in <TROOT::Append>: Replacing existing TH1: h_mgg (Potential memory leak).\n",
      "Warning in <TROOT::Append>: Replacing existing TH1: h_mgg (Potential memory leak).\n",
      "Warning in <TROOT::Append>: Replacing existing TH1: h_mgg (Potential memory leak).\n",
      "Warning in <TROOT::Append>: Replacing existing TH1: h_mgg (Potential memory leak).\n",
      "Warning in <TROOT::Append>: Replacing existing TH1: h_mgg (Potential memory leak).\n",
      "Warning in <TROOT::Append>: Replacing existing TH1: h_mgg (Potential memory leak).\n",
      "Warning in <TROOT::Append>: Replacing existing TH1: h_mgg (Potential memory leak).\n",
      "Warning in <TROOT::Append>: Replacing existing TH1: h_mgg (Potential memory leak).\n",
      "Warning in <TROOT::Append>: Replacing existing TH1: h_mgg (Potential memory leak).\n",
      "Warning in <TROOT::Append>: Replacing existing TH1: h_mgg (Potential memory leak).\n",
      "Warning in <TROOT::Append>: Replacing existing TH1: h_mgg (Potential memory leak).\n",
      "Warning in <TROOT::Append>: Replacing existing TH1: h_mgg (Potential memory leak).\n",
      "Warning in <TROOT::Append>: Replacing existing TH1: h_mgg (Potential memory leak).\n",
      "Warning in <TROOT::Append>: Replacing existing TH1: h_mgg (Potential memory leak).\n",
      "Warning in <TROOT::Append>: Replacing existing TH1: h_mgg (Potential memory leak).\n",
      "Warning in <TROOT::Append>: Replacing existing TH1: h_mgg (Potential memory leak).\n",
      "Warning in <TROOT::Append>: Replacing existing TH1: h_mgg (Potential memory leak).\n",
      "Warning in <TROOT::Append>: Replacing existing TH1: h_mgg (Potential memory leak).\n",
      "Warning in <TROOT::Append>: Replacing existing TH1: h_mgg (Potential memory leak).\n",
      "Warning in <TROOT::Append>: Replacing existing TH1: h_mgg (Potential memory leak).\n",
      "Warning in <TROOT::Append>: Replacing existing TH1: h_mgg (Potential memory leak).\n",
      "Warning in <TROOT::Append>: Replacing existing TH1: h_mgg (Potential memory leak).\n",
      "Warning in <TROOT::Append>: Replacing existing TH1: h_mgg (Potential memory leak).\n",
      "Warning in <TROOT::Append>: Replacing existing TH1: h_mgg (Potential memory leak).\n",
      "Warning in <TROOT::Append>: Replacing existing TH1: h_mgg (Potential memory leak).\n",
      "Warning in <TROOT::Append>: Replacing existing TH1: h_mgg (Potential memory leak).\n",
      "Warning in <TROOT::Append>: Replacing existing TH1: h_mgg (Potential memory leak).\n",
      "Warning in <TROOT::Append>: Replacing existing TH1: h_mgg (Potential memory leak).\n",
      "Warning in <TROOT::Append>: Replacing existing TH1: h_mgg (Potential memory leak).\n",
      "Warning in <TROOT::Append>: Replacing existing TH1: h_mgg (Potential memory leak).\n",
      "Warning in <TROOT::Append>: Replacing existing TH1: h_mgg (Potential memory leak).\n",
      "Warning in <TROOT::Append>: Replacing existing TH1: h_mgg (Potential memory leak).\n",
      "Warning in <TROOT::Append>: Replacing existing TH1: h_mgg (Potential memory leak).\n",
      "Warning in <TROOT::Append>: Replacing existing TH1: h_mgg (Potential memory leak).\n",
      "Warning in <TROOT::Append>: Replacing existing TH1: h_mgg (Potential memory leak).\n",
      "Warning in <TROOT::Append>: Replacing existing TH1: h_mgg (Potential memory leak).\n",
      "Warning in <TROOT::Append>: Replacing existing TH1: h_mgg (Potential memory leak).\n",
      "Warning in <TROOT::Append>: Replacing existing TH1: h_mgg (Potential memory leak).\n",
      "Warning in <TROOT::Append>: Replacing existing TH1: h_mgg (Potential memory leak).\n",
      "Warning in <TROOT::Append>: Replacing existing TH1: h_mgg (Potential memory leak).\n",
      "Warning in <TROOT::Append>: Replacing existing TH1: h_mgg (Potential memory leak).\n",
      "Warning in <TROOT::Append>: Replacing existing TH1: h_mgg (Potential memory leak).\n",
      "Warning in <TROOT::Append>: Replacing existing TH1: h_mgg (Potential memory leak).\n",
      "Warning in <TROOT::Append>: Replacing existing TH1: h_mgg (Potential memory leak).\n",
      "Warning in <TROOT::Append>: Replacing existing TH1: h_mgg (Potential memory leak).\n",
      "Warning in <TROOT::Append>: Replacing existing TH1: h_mgg (Potential memory leak).\n",
      "Warning in <TROOT::Append>: Replacing existing TH1: h_mgg (Potential memory leak).\n",
      "Warning in <TROOT::Append>: Replacing existing TH1: h_mgg (Potential memory leak).\n",
      "Warning in <TROOT::Append>: Replacing existing TH1: h_mgg (Potential memory leak).\n",
      "Warning in <TROOT::Append>: Replacing existing TH1: h_mgg (Potential memory leak).\n",
      "Warning in <TROOT::Append>: Replacing existing TH1: h_mgg (Potential memory leak).\n",
      "Warning in <TROOT::Append>: Replacing existing TH1: h_mgg (Potential memory leak).\n",
      "Warning in <TROOT::Append>: Replacing existing TH1: h_mgg (Potential memory leak).\n",
      "Warning in <TROOT::Append>: Replacing existing TH1: h_mgg (Potential memory leak).\n",
      "Warning in <TROOT::Append>: Replacing existing TH1: h_mgg (Potential memory leak).\n",
      "Warning in <TROOT::Append>: Replacing existing TH1: h_mgg (Potential memory leak).\n",
      "Warning in <TROOT::Append>: Replacing existing TH1: h_mgg (Potential memory leak).\n",
      "Warning in <TROOT::Append>: Replacing existing TH1: h_mgg (Potential memory leak).\n",
      "Warning in <TROOT::Append>: Replacing existing TH1: h_mgg (Potential memory leak).\n",
      "Warning in <TROOT::Append>: Replacing existing TH1: h_mgg (Potential memory leak).\n",
      "Warning in <TROOT::Append>: Replacing existing TH1: h_mgg (Potential memory leak).\n",
      "Warning in <TROOT::Append>: Replacing existing TH1: h_mgg (Potential memory leak).\n",
      "Warning in <TROOT::Append>: Replacing existing TH1: h_mgg (Potential memory leak).\n",
      "Warning in <TROOT::Append>: Replacing existing TH1: h_mgg (Potential memory leak).\n",
      "Warning in <TROOT::Append>: Replacing existing TH1: h_mgg (Potential memory leak).\n",
      "Warning in <TROOT::Append>: Replacing existing TH1: h_mgg (Potential memory leak).\n",
      "Warning in <TROOT::Append>: Replacing existing TH1: h_mgg (Potential memory leak).\n",
      "Warning in <TROOT::Append>: Replacing existing TH1: h_mgg (Potential memory leak).\n",
      "Warning in <TROOT::Append>: Replacing existing TH1: h_mgg (Potential memory leak).\n",
      "Warning in <TROOT::Append>: Replacing existing TH1: h_mgg (Potential memory leak).\n",
      "Warning in <TROOT::Append>: Replacing existing TH1: h_mgg (Potential memory leak).\n",
      "Warning in <TROOT::Append>: Replacing existing TH1: h_mgg (Potential memory leak).\n",
      "Warning in <TROOT::Append>: Replacing existing TH1: h_mgg (Potential memory leak).\n",
      "Warning in <TROOT::Append>: Replacing existing TH1: h_mgg (Potential memory leak).\n",
      "Warning in <TROOT::Append>: Replacing existing TH1: h_mgg (Potential memory leak).\n",
      "Warning in <TROOT::Append>: Replacing existing TH1: h_mgg (Potential memory leak).\n",
      "Warning in <TROOT::Append>: Replacing existing TH1: h_mgg (Potential memory leak).\n",
      "Warning in <TROOT::Append>: Replacing existing TH1: h_mgg (Potential memory leak).\n",
      "Warning in <TROOT::Append>: Replacing existing TH1: h_mgg (Potential memory leak).\n",
      "Warning in <TROOT::Append>: Replacing existing TH1: h_mgg (Potential memory leak).\n",
      "Warning in <TROOT::Append>: Replacing existing TH1: h_mgg (Potential memory leak).\n",
      "Warning in <TROOT::Append>: Replacing existing TH1: h_mgg (Potential memory leak).\n",
      "Warning in <TROOT::Append>: Replacing existing TH1: h_mgg (Potential memory leak).\n",
      "Warning in <TROOT::Append>: Replacing existing TH1: h_mgg (Potential memory leak).\n",
      "Warning in <TROOT::Append>: Replacing existing TH1: h_mgg (Potential memory leak).\n",
      "Warning in <TROOT::Append>: Replacing existing TH1: h_mgg (Potential memory leak).\n",
      "Warning in <TROOT::Append>: Replacing existing TH1: h_mgg (Potential memory leak).\n",
      "Warning in <TROOT::Append>: Replacing existing TH1: h_mgg (Potential memory leak).\n",
      "Warning in <TROOT::Append>: Replacing existing TH1: h_mgg (Potential memory leak).\n",
      "Warning in <TROOT::Append>: Replacing existing TH1: h_mgg (Potential memory leak).\n",
      "Warning in <TROOT::Append>: Replacing existing TH1: h_mgg (Potential memory leak).\n",
      "Warning in <TROOT::Append>: Replacing existing TH1: h_mgg (Potential memory leak).\n",
      "Warning in <TROOT::Append>: Replacing existing TH1: h_mgg (Potential memory leak).\n",
      "Warning in <TROOT::Append>: Replacing existing TH1: h_mgg (Potential memory leak).\n",
      "Warning in <TROOT::Append>: Replacing existing TH1: h_mgg (Potential memory leak).\n",
      "Warning in <TROOT::Append>: Replacing existing TH1: h_mgg (Potential memory leak).\n",
      "Warning in <TROOT::Append>: Replacing existing TH1: h_mgg (Potential memory leak).\n",
      "Warning in <TROOT::Append>: Replacing existing TH1: h_mgg (Potential memory leak).\n",
      "Warning in <TROOT::Append>: Replacing existing TH1: h_mgg (Potential memory leak).\n",
      "Warning in <TROOT::Append>: Replacing existing TH1: h_mgg (Potential memory leak).\n",
      "Warning in <TROOT::Append>: Replacing existing TH1: h_mgg (Potential memory leak).\n",
      "Warning in <TROOT::Append>: Replacing existing TH1: h_mgg (Potential memory leak).\n",
      "Warning in <TROOT::Append>: Replacing existing TH1: h_mgg (Potential memory leak).\n",
      "Warning in <TROOT::Append>: Replacing existing TH1: h_mgg (Potential memory leak).\n",
      "Warning in <TROOT::Append>: Replacing existing TH1: h_mgg (Potential memory leak).\n",
      "Warning in <TROOT::Append>: Replacing existing TH1: h_mgg (Potential memory leak).\n",
      "Warning in <TROOT::Append>: Replacing existing TH1: h_mgg (Potential memory leak).\n",
      "Warning in <TROOT::Append>: Replacing existing TH1: h_mgg (Potential memory leak).\n",
      "Warning in <TROOT::Append>: Replacing existing TH1: h_mgg (Potential memory leak).\n",
      "Warning in <TROOT::Append>: Replacing existing TH1: h_mgg (Potential memory leak).\n",
      "Warning in <TROOT::Append>: Replacing existing TH1: h_mgg (Potential memory leak).\n",
      "Warning in <TROOT::Append>: Replacing existing TH1: h_mgg (Potential memory leak).\n",
      "Warning in <TROOT::Append>: Replacing existing TH1: h_mgg (Potential memory leak).\n"
     ]
    }
   ],
   "source": [
    "ntoys  = 200  # number of toy experiments\n",
    "L      = 10.  # integrated luminosity fb-1\n",
    "m_H    = 125. # GeV\n",
    "s_m    = 1.4  # GeV\n",
    "\n",
    "# histograms to collect the results from the toy experiments\n",
    "h_norm = ROOT.TH1F(\"h_norm\",\"\" , 10, 0.,  1000.);\n",
    "h_mH   = ROOT.TH1F(\"h_mH\"  ,\"\" , 40, 115., 135.);\n",
    "\n",
    "# loop on \"toy\" experiments\n",
    "for i in range(ntoys):\n",
    "    \n",
    "    if ( i>0 and i%10==0 ):\n",
    "        print (\"*** Toy # \"+str(i)+\" / \"+ str(ntoys))\n",
    "    \n",
    "    # for each toy experiment we generate a pseudo-data histogram, as we did before...\n",
    "    mgg = DataHistogram(m_H,s_m,L)\n",
    "\n",
    "    # ... then we fit it\n",
    "    massFit.SetParameter(0,L*1000.) \n",
    "    massFit.SetParameter(1,0.023)  \n",
    "    massFit.SetParameter(2,L*10.)   \n",
    "    massFit.SetParameter(3,m_H)\n",
    "    massFit.FixParameter(4,s_m) \n",
    "    \n",
    "    # set limits to some parameter to stabilize fits to weird spectra, especially at low statistics\n",
    "    massFit.SetParLimits(0,0.,L*10000000.);\n",
    "    massFit.SetParLimits(1,0.,1.);\n",
    "    massFit.SetParLimits(2,0.,1.E+5)\n",
    "    massFit.SetParLimits(3,m_H-10.,m_H+10.)\n",
    "    massFit.SetParLimits(4,s_m*0.5,s_m*2.)\n",
    "    \n",
    "    mgg.Fit(massFit,\"Q\")\n",
    "    \n",
    "    # ... and we fill the histograms with the fit results\n",
    "    h_norm.Fill(massFit.GetParameter(2))\n",
    "    h_mH.Fill(massFit.GetParameter(3))"
   ]
  },
  {
   "cell_type": "code",
   "execution_count": 29,
   "metadata": {},
   "outputs": [
    {
     "data": {
      "image/png": "[encoded data removed]",
      "text/plain": [
       "<IPython.core.display.Image object>"
      ]
     },
     "metadata": {},
     "output_type": "display_data"
    }
   ],
   "source": [
    "toyplots = ROOT.TCanvas(\"toyplots\",\"\",800,800)\n",
    "toyplots.Divide(1,2)\n",
    "\n",
    "toyplots.cd(1)\n",
    "h_norm.SetStats(0)\n",
    "h_norm.SetLineColor(2); h_norm.SetLineWidth(2)\n",
    "h_norm.GetXaxis().SetTitle(\"Normalisation [a.u.]\")\n",
    "h_norm.GetYaxis().SetTitle(\"Experiments\");\n",
    "h_norm.Draw()\n",
    "\n",
    "label.SetTextSize(0.06);\n",
    "label.SetTextAlign(12);\n",
    "label.DrawLatexNDC(0.7,0.8,\"#int L dt = \"+str(int(L))+\" fb^{-1}\")\n",
    "\n",
    "toyplots.cd(2);\n",
    "h_mH.SetStats(0)\n",
    "h_mH.SetLineColor(2), h_mH.SetLineWidth(2)\n",
    "h_mH.GetXaxis().SetTitle(\"m_{H} [GeV]\");\n",
    "h_mH.GetYaxis().SetTitle(\"Esperiments\");\n",
    "h_mH.Draw();\n",
    "\n",
    "toyplots.Draw()"
   ]
  },
  {
   "cell_type": "markdown",
   "metadata": {},
   "source": [
    "# 4. Significance vs. Luminosity\n",
    "\n",
    "We want now to study the evolution of the expected signal significance as a function of the amuont of collected data. We have (approximatively) defined the signal significance as:\n",
    "\n",
    "$$ Z \\sim \\frac{N_S}{\\sqrt{N_B}}$$\n",
    "\n",
    "with\n",
    "\n",
    "$$p_0 = 1 - \\text{Erf}\\left( \\frac{N_S}{\\sqrt{N_B}} \\right) $$\n",
    "\n",
    "In this exercise we will use a even more approximate definition, using:\n",
    "\n",
    "$$ Z = \\frac{N_S}{\\sigma_{N_S}} = \\frac{p_2}{\\sigma_{p_2}} $$\n",
    "\n",
    "Let's begin by computing the significance for a given value of the luminosity, avaraging over a certain number of toy experiments...\n",
    "\n",
    "* **How much does the significance change in each toy experiment? Why? What can you conclude?**\n",
    "* **Compute the average significance for this luminosity value**"
   ]
  },
  {
   "cell_type": "code",
   "execution_count": 39,
   "metadata": {},
   "outputs": [
    {
     "name": "stdout",
     "output_type": "stream",
     "text": [
      "5.814500684667382\n",
      "4.61730724290991\n",
      "5.427160307134091\n",
      "6.126898981303584\n",
      "4.650176733751545\n",
      "4.900861647236682\n",
      "7.304970713561404\n",
      "5.250301440256465\n",
      "5.202339909406564\n",
      "4.605662318232114\n"
     ]
    },
    {
     "name": "stderr",
     "output_type": "stream",
     "text": [
      "Warning in <TROOT::Append>: Replacing existing TH1: h_mgg (Potential memory leak).\n",
      "Warning in <TROOT::Append>: Replacing existing TH1: h_mgg (Potential memory leak).\n",
      "Warning in <TROOT::Append>: Replacing existing TH1: h_mgg (Potential memory leak).\n",
      "Warning in <TROOT::Append>: Replacing existing TH1: h_mgg (Potential memory leak).\n",
      "Warning in <TROOT::Append>: Replacing existing TH1: h_mgg (Potential memory leak).\n",
      "Warning in <TROOT::Append>: Replacing existing TH1: h_mgg (Potential memory leak).\n",
      "Warning in <TROOT::Append>: Replacing existing TH1: h_mgg (Potential memory leak).\n",
      "Warning in <TROOT::Append>: Replacing existing TH1: h_mgg (Potential memory leak).\n",
      "Warning in <TROOT::Append>: Replacing existing TH1: h_mgg (Potential memory leak).\n",
      "Warning in <TROOT::Append>: Replacing existing TH1: h_mgg (Potential memory leak).\n"
     ]
    }
   ],
   "source": [
    "L      = 100. # fb^-1 =luminosity\n",
    "m_H    = 125. # GeV - mass\n",
    "s_m    = 1.4  # GeV - mass resolution\n",
    "\n",
    "ntoys  = 10  # number of toy experiments (increase this!)\n",
    "\n",
    "for i in range(ntoys): # loop on toys\n",
    "    \n",
    "        mgg = DataHistogram(m_H,s_m,L)\n",
    "\n",
    "        massFit.SetParameter(0,L*1000.) \n",
    "        massFit.SetParameter(1,0.023)  \n",
    "        massFit.SetParameter(2,L*10.)   \n",
    "        massFit.SetParameter(3,m_H)\n",
    "        massFit.FixParameter(4,s_m)\n",
    "        \n",
    "        massFit.SetParLimits(0,0.,L*10000000.);\n",
    "        massFit.SetParLimits(1,0.,1.);\n",
    "        massFit.SetParLimits(2,0.,1.E+5)\n",
    "        massFit.SetParLimits(3,m_H-10.,m_H+10.)\n",
    "        massFit.SetParLimits(4,s_m*0.5,s_m*2.)\n",
    "        \n",
    "        mgg.Fit(massFit,\"Q\")\n",
    "    \n",
    "        # compute significance for this toy experiment, sum to average over all toys\n",
    "        norm  = massFit.GetParameter(2); # gaussian normalization\n",
    "        snorm = massFit.GetParError(2);  # error on gaussian normalization\n",
    "        signif_toy = norm/snorm # poor-man significance :-)\n",
    "        \n",
    "        print(signif_toy)"
   ]
  },
  {
   "cell_type": "markdown",
   "metadata": {},
   "source": [
    "Now do the same, but **vary the luminosity value** e.g. from 20 to 100 $fb^{-1}$.\n",
    "\n",
    "* **What average significance do you expect for a given luminosity value?**\n",
    "* **How much luminosity would you need to reach 5 $\\sigma$?**"
   ]
  },
  {
   "cell_type": "code",
   "execution_count": 49,
   "metadata": {},
   "outputs": [
    {
     "name": "stdout",
     "output_type": "stream",
     "text": [
      "*** L = 20 fb-1\n",
      "*** L = 40 fb-1\n",
      "*** L = 60 fb-1\n",
      "*** L = 80 fb-1\n",
      "*** L = 100 fb-1\n"
     ]
    }
   ],
   "source": [
    "ntoys  = 100  # number of toy experiments\n",
    "m_H    = 125. # GeV\n",
    "s_m    = 1.4  # GeV\n",
    "\n",
    "# Luminosity values\n",
    "\n",
    "nL = 5\n",
    "L0 = 20.\n",
    "dL = 20.\n",
    "\n",
    "# Store significance values in a TGraph\n",
    "sig_vs_L = ROOT.TGraph(nL)\n",
    "sig_vs_L.SetTitle(\"\")\n",
    "\n",
    "for j in range(nL): # loop on luminosity values\n",
    "    \n",
    "    # increasing luminosity\n",
    "    L = L0+dL*j\n",
    "    print (\"*** L = \" + str(int(L)) + \" fb-1\")\n",
    "    \n",
    "    # here you should compute the average expected significance \n",
    "    # corresponding to your luminosity valyue\n",
    "        \n",
    "    # do something here...\n",
    "    \n",
    "    # don't forget to average over several toy experiments!\n",
    "    \n",
    "    signif_L  = 5. # this is a dummy value!\n",
    "    \n",
    "    # store significance in TGraph\n",
    "    sig_vs_L.SetPoint(j,L,signif_L);"
   ]
  },
  {
   "cell_type": "code",
   "execution_count": 50,
   "metadata": {},
   "outputs": [
    {
     "name": "stderr",
     "output_type": "stream",
     "text": [
      "Warning in <TCanvas::Constructor>: Deleting canvas with same name: sigplot_vs_L\n"
     ]
    },
    {
     "data": {
      "image/png": "[encoded data removed]",
      "text/plain": [
       "<IPython.core.display.Image object>"
      ]
     },
     "metadata": {},
     "output_type": "display_data"
    }
   ],
   "source": [
    "# Plot result\n",
    "\n",
    "sigplot_vs_L = ROOT.TCanvas(\"sigplot_vs_L\",\"\",800,400)\n",
    "\n",
    "sig_vs_L.SetMarkerStyle(20);\n",
    "sig_vs_L.SetMarkerColor(2);\n",
    "sig_vs_L.GetXaxis().SetTitle(\"L [fb^{-1}]\");\n",
    "sig_vs_L.GetYaxis().SetTitle(\"Significance\");\n",
    "sig_vs_L.Draw(\"APX\");\n",
    "\n",
    "sigplot_vs_L.Draw()"
   ]
  },
  {
   "cell_type": "markdown",
   "metadata": {},
   "source": [
    "# 5. Significance vs. Detector resolution\n",
    "\n",
    "We now want to repeat the previous exercise by **fixing the luminosity to 100 fb$^{-1}$**, and computing the significance corresponding to **several values of the detector invariant mass resolution**.\n",
    "\n",
    "**You can change the _true_ invariannt mass resolution (the signal peak width) when you generate the diphoton invariant mass spectrum by changing the `s_m` parameter:**\n",
    "\n",
    "`mgg = DataHistogram(m_H,s_m,L)`\n",
    "\n",
    "* **What happens if you set the detector resolution be larger or smaller than the default value?**\n",
    "* **Do you reach 5 $\\sigma$ earlier with a better or a worse resolution? Why?**"
   ]
  },
  {
   "cell_type": "code",
   "execution_count": 43,
   "metadata": {},
   "outputs": [
    {
     "name": "stdout",
     "output_type": "stream",
     "text": [
      "*** sigma_yy = 1.0 GeV\n",
      "*** sigma_yy = 1.2 GeV\n",
      "*** sigma_yy = 1.4 GeV\n",
      "*** sigma_yy = 1.6 GeV\n",
      "*** sigma_yy = 1.8 GeV\n"
     ]
    },
    {
     "name": "stderr",
     "output_type": "stream",
     "text": [
      "Warning in <TROOT::Append>: Replacing existing TH1: h_mgg (Potential memory leak).\n",
      "Warning in <TROOT::Append>: Replacing existing TH1: h_mgg (Potential memory leak).\n",
      "Warning in <TROOT::Append>: Replacing existing TH1: h_mgg (Potential memory leak).\n",
      "Warning in <TROOT::Append>: Replacing existing TH1: h_mgg (Potential memory leak).\n",
      "Warning in <TROOT::Append>: Replacing existing TH1: h_mgg (Potential memory leak).\n"
     ]
    }
   ],
   "source": [
    "ntoys  = 1    # number of toy experiments\n",
    "m_H    = 125. # GeV\n",
    "L      = 50.  # GeV\n",
    "\n",
    "# invariant mass resolution values\n",
    "nS = 5\n",
    "S0 = 1.\n",
    "dS = 0.2\n",
    "\n",
    "sig_vs_S = ROOT.TGraph(nS)\n",
    "sig_vs_S.SetTitle(\"\")\n",
    "\n",
    "for j in range(nS): # loop on mass resolution values\n",
    "    \n",
    "    # increasing invariant mass resolution\n",
    "    s_m = S0+dS*j\n",
    "    print (\"*** sigma_yy = \" + str(s_m) + \" GeV\")\n",
    "\n",
    "    for i in range(ntoys): # loop on toys to average significances\n",
    "    \n",
    "        # generate a mass spectrum corresponsing to this L and s_m\n",
    "        mgg = DataHistogram(m_H,s_m,L)\n",
    "\n",
    "        # do something...\n",
    "    \n",
    "        signif_toy = 5. # dummy value!\n",
    "\n",
    "    # average significance over toy experiments\n",
    "    signif_S = 5. # dummy value!\n",
    "    \n",
    "    # save average significance value in TGraph\n",
    "    sig_vs_S.SetPoint(j,s_m,signif_S);"
   ]
  },
  {
   "cell_type": "code",
   "execution_count": 44,
   "metadata": {},
   "outputs": [
    {
     "data": {
      "image/png": "[encoded data removed]",
      "text/plain": [
       "<IPython.core.display.Image object>"
      ]
     },
     "metadata": {},
     "output_type": "display_data"
    }
   ],
   "source": [
    "sigplot_vs_S = ROOT.TCanvas(\"sigplot_vs_S\",\"\",800,400)\n",
    "\n",
    "sig_vs_S.SetMarkerStyle(20);\n",
    "sig_vs_S.SetMarkerColor(2);\n",
    "sig_vs_S.GetXaxis().SetTitle(\"#sigma_{#gamma#gamma} [GeV]\");\n",
    "sig_vs_S.GetYaxis().SetTitle(\"Significance\");\n",
    "sig_vs_S.Draw(\"APX\");\n",
    "\n",
    "sigplot_vs_S.Draw()"
   ]
  },
  {
   "cell_type": "code",
   "execution_count": null,
   "metadata": {},
   "outputs": [],
   "source": [
    "\n"
   ]
  }
 ],
 "metadata": {
  "kernelspec": {
   "display_name": "Python 3",
   "language": "python",
   "name": "python3"
  },
  "language_info": {
   "codemirror_mode": {
    "name": "ipython",
    "version": 3
   },
   "file_extension": ".py",
   "mimetype": "text/x-python",
   "name": "python",
   "nbconvert_exporter": "python",
   "pygments_lexer": "ipython3",
   "version": "3.9.0"
  }
 },
 "nbformat": 4,
 "nbformat_minor": 2
}
